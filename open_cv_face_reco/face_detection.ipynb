{
 "cells": [
  {
   "cell_type": "code",
   "execution_count": 1,
   "metadata": {},
   "outputs": [],
   "source": [
    "import cv2\n",
    "import numpy as np\n",
    "import os"
   ]
  },
  {
   "cell_type": "code",
   "execution_count": 2,
   "metadata": {},
   "outputs": [],
   "source": [
    "########## KNN CODE ############\n",
    "def distance(v1, v2):\n",
    "    # Eucledian \n",
    "    return np.sqrt(((v1-v2)**2).sum())\n",
    "\n",
    "def knn(train, test, k=5):\n",
    "    dist = []\n",
    "    \n",
    "    for i in range(train.shape[0]):\n",
    "        # Get the vector and label\n",
    "        ix = train[i, :-1]\n",
    "        iy = train[i, -1]\n",
    "        # Compute the distance from test point\n",
    "        d = distance(test, ix)\n",
    "        dist.append([d, iy])\n",
    "    # Sort based on distance and get top k\n",
    "    dk = sorted(dist, key=lambda x: x[0])[:k]\n",
    "    # Retrieve only the labels\n",
    "    labels = np.array(dk)[:, -1]\n",
    "\n",
    "    # Get frequencies of each label\n",
    "    output = np.unique(labels, return_counts=True)\n",
    "    # Find max frequency and corresponding label\n",
    "    index = np.argmax(output[1])\n",
    "    return output[0][index]\n",
    "################################\n"
   ]
  },
  {
   "cell_type": "code",
   "execution_count": 3,
   "metadata": {},
   "outputs": [
    {
     "name": "stdout",
     "output_type": "stream",
     "text": [
      "Loading file  Anant.npy\n",
      "Loading file  Nand.npy\n",
      "(61, 30000)\n",
      "(61,)\n"
     ]
    }
   ],
   "source": [
    "cam = cv2.VideoCapture(0)\n",
    "\n",
    "face_cascade = cv2.CascadeClassifier(\"haarcascade_frontalface_alt.xml\")\n",
    "\n",
    "dataset_path =\"./data/\"\n",
    "labels = []\n",
    "class_id = 0\n",
    "names = {}\n",
    "face_data = []\n",
    "labels = []\n",
    "#data preparation\n",
    "for fx in os.listdir(dataset_path):\n",
    "    if fx.endswith(\".npy\"):\n",
    "        names[class_id] = fx[:-4]\n",
    "        print(\"Loading file \",fx)\n",
    "        data_item = np.load(dataset_path+fx)\n",
    "        face_data.append(data_item)\n",
    "\n",
    "        #Create Labels\n",
    "        target = class_id*np.ones((data_item.shape[0],))\n",
    "        labels.append(target)\n",
    "        class_id +=1 \n",
    "\n",
    "\n",
    "X = np.concatenate(face_data,axis=0)\n",
    "Y = np.concatenate(labels,axis=0)\n",
    "\n",
    "\n",
    "\n",
    "print(X.shape)\n",
    "print(Y.shape)\n",
    "\n",
    "#Training Set\n",
    "trainset = np.concatenate((X,Y.reshape(-1,1)),axis=1)\n",
    "\n",
    "while True:\n",
    "    ret,frame = cam.read()\n",
    "    if ret==False:\n",
    "        print(\"Something Went Wrong!\")\n",
    "        continue\n",
    "\n",
    "    key_pressed = cv2.waitKey(1)&0xFF #Bitmasking to get last 8 bits\n",
    "    if key_pressed==ord('q'): #ord-->ASCII Value(8 bit)\n",
    "        break\n",
    "    faces = face_cascade.detectMultiScale(frame,1.3,5)\n",
    "    if(len(faces)==0):\n",
    "        cv2.imshow(\"Faces Detected\",frame)\n",
    "        continue\n",
    "\n",
    "    for face in faces:\n",
    "        x,y,w,h = face\n",
    "        face_section = frame[y-10:y+h+10,x-10:x+w+10];\n",
    "        face_section = cv2.resize(face_section,(100,100))\n",
    "        cv2.rectangle(frame,(x,y),(x+w,y+h),(0,255,255),2)\n",
    "\n",
    "        pred = knn(trainset,face_section.flatten())\n",
    "        name = names[int(pred)]\n",
    "        cv2.putText(frame,name,(x,y-10),cv2.FONT_HERSHEY_SIMPLEX,1,(255,0,0),2,cv2.LINE_AA)\n",
    "\n",
    "    cv2.imshow(\"Faces Detected\",frame)\n",
    "\n",
    "cam.release()\n",
    "cv2.destroyAllWindows()\n"
   ]
  },
  {
   "cell_type": "code",
   "execution_count": null,
   "metadata": {},
   "outputs": [],
   "source": []
  },
  {
   "cell_type": "code",
   "execution_count": null,
   "metadata": {},
   "outputs": [],
   "source": []
  }
 ],
 "metadata": {
  "kernelspec": {
   "display_name": "Python 3",
   "language": "python",
   "name": "python3"
  },
  "language_info": {
   "codemirror_mode": {
    "name": "ipython",
    "version": 3
   },
   "file_extension": ".py",
   "mimetype": "text/x-python",
   "name": "python",
   "nbconvert_exporter": "python",
   "pygments_lexer": "ipython3",
   "version": "3.8.1"
  }
 },
 "nbformat": 4,
 "nbformat_minor": 4
}
