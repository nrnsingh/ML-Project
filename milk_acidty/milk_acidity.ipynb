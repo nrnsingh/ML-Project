{
 "cells": [
  {
   "cell_type": "code",
   "execution_count": 3,
   "metadata": {},
   "outputs": [],
   "source": [
    "import numpy as np\n",
    "import matplotlib.pyplot as plt\n",
    "import pandas as pd"
   ]
  },
  {
   "cell_type": "code",
   "execution_count": null,
   "metadata": {},
   "outputs": [],
   "source": []
  },
  {
   "cell_type": "code",
   "execution_count": 27,
   "metadata": {
    "scrolled": true
   },
   "outputs": [
    {
     "data": {
      "image/png": "[encoded data removed]",
      "text/plain": [
       "<Figure size 432x288 with 1 Axes>"
      ]
     },
     "metadata": {
      "needs_background": "light"
     },
     "output_type": "display_data"
    }
   ],
   "source": [
    "def hypothesis(theta,X):\n",
    "    return theta[0]+theta[1]*X\n",
    "\n",
    "def error(X,Y,theta):\n",
    "    total_error=0.0\n",
    "    m=X.shape[0]\n",
    "    for i in range(m):\n",
    "        total_error+=(Y[i]-hypothesis(theta,X[i]))**2\n",
    "    return total_error/m\n",
    "\n",
    "def gradient(Y,X,theta):\n",
    "    grad=np.zeros((2,))\n",
    "    m=X.shape[0]\n",
    "    for i in range(m):\n",
    "        grad[0]+=(hypothesis(theta,X[i])-Y[i])\n",
    "        grad[1]+=(hypothesis(theta,X[i])-Y[i])*X[i]\n",
    "    return grad/m\n",
    "\n",
    "def gradientdecent(X,Y,learning_rate,maxitr):\n",
    "    theta=np.zeros((2,))\n",
    "    error_list=[]\n",
    "    for i in range(maxitr):\n",
    "        grad=gradient(Y,X,theta)\n",
    "        e=error(X,Y,theta)\n",
    "        error_list.append(e)\n",
    "        theta[0]=theta[0]-learning_rate*grad[0]\n",
    "        theta[1]=theta[1]-learning_rate*grad[1]\n",
    "    return theta,error_list\n",
    "\n",
    "\n",
    "def readdata(filename):\n",
    "    df=pd.read_csv(filename)\n",
    "    return df.values\n",
    "X=readdata(\"LinearX.csv\")\n",
    "Y=readdata('LinearY.csv')\n",
    "\n",
    "X.reshape((99,))\n",
    "Y.reshape((99,))\n",
    "\n",
    "theta,error_list=gradientdecent(X,Y,learning_rate=0.1,maxitr=99)\n",
    "#plt.plot(X,hypothesis(theta,X),color='r')\n",
    "plt.scatter(X,Y)\n",
    "plt.show()\n",
    "        "
   ]
  },
  {
   "cell_type": "code",
   "execution_count": 18,
   "metadata": {},
   "outputs": [
    {
     "data": {
      "text/plain": [
       "[array([0.99328382]),\n",
       " array([32.89947912]),\n",
       " array([1134.98390469]),\n",
       " array([39202.1049385]),\n",
       " array([1354078.91674052]),\n",
       " array([46771251.73996621]),\n",
       " array([1.61552626e+09]),\n",
       " array([5.58019084e+10]),\n",
       " array([1.92745426e+12]),\n",
       " array([6.65762166e+13]),\n",
       " array([2.29960975e+15]),\n",
       " array([7.94308428e+16]),\n",
       " array([2.74362152e+18]),\n",
       " array([9.47674576e+19]),\n",
       " array([3.27336368e+21]),\n",
       " array([1.13065287e+23]),\n",
       " array([3.90538918e+24]),\n",
       " array([1.34896086e+26]),\n",
       " array([4.65944702e+27]),\n",
       " array([1.60942005e+29]),\n",
       " array([5.55909937e+30]),\n",
       " array([1.92016906e+32]),\n",
       " array([6.63245782e+33]),\n",
       " array([2.2909179e+35]),\n",
       " array([7.91306177e+36]),\n",
       " array([2.73325144e+38]),\n",
       " array([9.44092647e+39]),\n",
       " array([3.26099133e+41]),\n",
       " array([1.12637934e+43]),\n",
       " array([3.89062796e+44]),\n",
       " array([1.34386219e+46]),\n",
       " array([4.64183569e+47]),\n",
       " array([1.60333692e+49]),\n",
       " array([5.53808762e+50]),\n",
       " array([1.91291139e+52]),\n",
       " array([6.60738909e+53]),\n",
       " array([2.28225891e+55]),\n",
       " array([7.88315274e+56]),\n",
       " array([2.72292056e+58]),\n",
       " array([9.40524256e+59]),\n",
       " array([3.24866575e+61]),\n",
       " array([1.12212196e+63]),\n",
       " array([3.87592254e+64]),\n",
       " array([1.33878278e+66]),\n",
       " array([4.62429092e+67]),\n",
       " array([1.59727678e+69]),\n",
       " array([5.51715529e+70]),\n",
       " array([1.90568115e+72]),\n",
       " array([6.58241511e+73]),\n",
       " array([2.27363265e+75]),\n",
       " array([7.85335675e+76]),\n",
       " array([2.71262872e+78]),\n",
       " array([9.36969353e+79]),\n",
       " array([3.23638676e+81]),\n",
       " array([1.11788067e+83]),\n",
       " array([3.8612727e+84]),\n",
       " array([1.33372258e+86]),\n",
       " array([4.60681247e+87]),\n",
       " array([1.59123955e+89]),\n",
       " array([5.49630207e+90]),\n",
       " array([1.89847824e+92]),\n",
       " array([6.55753553e+93]),\n",
       " array([2.26503899e+95]),\n",
       " array([7.82367339e+96]),\n",
       " array([2.70237579e+98]),\n",
       " array([9.33427886e+99]),\n",
       " array([3.22415417e+101]),\n",
       " array([1.11365541e+103]),\n",
       " array([3.84667823e+104]),\n",
       " array([1.3286815e+106]),\n",
       " array([4.58940008e+107]),\n",
       " array([1.58522513e+109]),\n",
       " array([5.47552768e+110]),\n",
       " array([1.89130255e+112]),\n",
       " array([6.53274999e+113]),\n",
       " array([2.25647781e+115]),\n",
       " array([7.79410222e+116]),\n",
       " array([2.69216161e+118]),\n",
       " array([9.29899805e+119]),\n",
       " array([3.21196782e+121]),\n",
       " array([1.10944612e+123]),\n",
       " array([3.83213893e+124]),\n",
       " array([1.32365948e+126]),\n",
       " array([4.57205351e+127]),\n",
       " array([1.57923345e+129]),\n",
       " array([5.4548318e+130]),\n",
       " array([1.88415399e+132]),\n",
       " array([6.50805813e+133]),\n",
       " array([2.24794899e+135]),\n",
       " array([7.76464282e+136]),\n",
       " array([2.68198603e+138]),\n",
       " array([9.26385058e+139]),\n",
       " array([3.19982754e+141]),\n",
       " array([1.10525274e+143]),\n",
       " array([3.81765458e+144]),\n",
       " array([1.31865644e+146]),\n",
       " array([4.5547725e+147]),\n",
       " array([1.57326441e+149]),\n",
       " array([5.43421415e+150])]"
      ]
     },
     "execution_count": 18,
     "metadata": {},
     "output_type": "execute_result"
    }
   ],
   "source": [
    "error_list"
   ]
  }
 ],
 "metadata": {
  "kernelspec": {
   "display_name": "Python 3",
   "language": "python",
   "name": "python3"
  },
  "language_info": {
   "codemirror_mode": {
    "name": "ipython",
    "version": 3
   },
   "file_extension": ".py",
   "mimetype": "text/x-python",
   "name": "python",
   "nbconvert_exporter": "python",
   "pygments_lexer": "ipython3",
   "version": "3.8.1"
  }
 },
 "nbformat": 4,
 "nbformat_minor": 4
}
