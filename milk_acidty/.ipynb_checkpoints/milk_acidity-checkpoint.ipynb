{
 "cells": [
  {
   "cell_type": "code",
   "execution_count": 28,
   "metadata": {},
   "outputs": [],
   "source": [
    "import numpy as np\n",
    "import matplotlib.pyplot as plt\n",
    "import pandas as pd"
   ]
  },
  {
   "cell_type": "code",
   "execution_count": null,
   "metadata": {},
   "outputs": [],
   "source": []
  },
  {
   "cell_type": "code",
   "execution_count": 115,
   "metadata": {
    "scrolled": true
   },
   "outputs": [
    {
     "ename": "ValueError",
     "evalue": "operands could not be broadcast together with shapes (100,1) (99,1) ",
     "output_type": "error",
     "traceback": [
      "\u001b[1;31m---------------------------------------------------------------------------\u001b[0m",
      "\u001b[1;31mValueError\u001b[0m                                Traceback (most recent call last)",
      "\u001b[1;32m<ipython-input-115-9663a8836a49>\u001b[0m in \u001b[0;36m<module>\u001b[1;34m\u001b[0m\n\u001b[0;32m     39\u001b[0m \u001b[0mtheta\u001b[0m\u001b[1;33m=\u001b[0m\u001b[0mgradientdecent\u001b[0m\u001b[1;33m(\u001b[0m\u001b[0mX\u001b[0m\u001b[1;33m,\u001b[0m\u001b[0mY\u001b[0m\u001b[1;33m,\u001b[0m\u001b[0mlearning_rate\u001b[0m\u001b[1;33m=\u001b[0m\u001b[1;36m0.1\u001b[0m\u001b[1;33m,\u001b[0m\u001b[0mmaxitr\u001b[0m\u001b[1;33m=\u001b[0m\u001b[1;36m100\u001b[0m\u001b[1;33m)\u001b[0m\u001b[1;33m\u001b[0m\u001b[1;33m\u001b[0m\u001b[0m\n\u001b[0;32m     40\u001b[0m \u001b[0mplt\u001b[0m\u001b[1;33m.\u001b[0m\u001b[0mscatter\u001b[0m\u001b[1;33m(\u001b[0m\u001b[0mX\u001b[0m\u001b[1;33m,\u001b[0m\u001b[0mY\u001b[0m\u001b[1;33m)\u001b[0m\u001b[1;33m\u001b[0m\u001b[1;33m\u001b[0m\u001b[0m\n\u001b[1;32m---> 41\u001b[1;33m \u001b[0mplt\u001b[0m\u001b[1;33m.\u001b[0m\u001b[0mplot\u001b[0m\u001b[1;33m(\u001b[0m\u001b[0mX\u001b[0m\u001b[1;33m,\u001b[0m\u001b[0mhypothesis\u001b[0m\u001b[1;33m(\u001b[0m\u001b[0mtheta\u001b[0m\u001b[1;33m,\u001b[0m\u001b[0mX\u001b[0m\u001b[1;33m)\u001b[0m\u001b[1;33m,\u001b[0m\u001b[0mcolor\u001b[0m\u001b[1;33m=\u001b[0m\u001b[1;34m'r'\u001b[0m\u001b[1;33m)\u001b[0m\u001b[1;33m\u001b[0m\u001b[1;33m\u001b[0m\u001b[0m\n\u001b[0m\u001b[0;32m     42\u001b[0m \u001b[1;33m\u001b[0m\u001b[0m\n",
      "\u001b[1;32m<ipython-input-115-9663a8836a49>\u001b[0m in \u001b[0;36mhypothesis\u001b[1;34m(theta, X)\u001b[0m\n\u001b[0;32m      1\u001b[0m \u001b[1;32mdef\u001b[0m \u001b[0mhypothesis\u001b[0m\u001b[1;33m(\u001b[0m\u001b[0mtheta\u001b[0m\u001b[1;33m,\u001b[0m\u001b[0mX\u001b[0m\u001b[1;33m)\u001b[0m\u001b[1;33m:\u001b[0m\u001b[1;33m\u001b[0m\u001b[1;33m\u001b[0m\u001b[0m\n\u001b[1;32m----> 2\u001b[1;33m     \u001b[1;32mreturn\u001b[0m \u001b[0mtheta\u001b[0m\u001b[1;33m[\u001b[0m\u001b[1;36m0\u001b[0m\u001b[1;33m]\u001b[0m\u001b[1;33m+\u001b[0m\u001b[0mtheta\u001b[0m\u001b[1;33m[\u001b[0m\u001b[1;36m1\u001b[0m\u001b[1;33m]\u001b[0m\u001b[1;33m*\u001b[0m\u001b[0mX\u001b[0m\u001b[1;33m\u001b[0m\u001b[1;33m\u001b[0m\u001b[0m\n\u001b[0m\u001b[0;32m      3\u001b[0m \u001b[1;33m\u001b[0m\u001b[0m\n\u001b[0;32m      4\u001b[0m \u001b[1;32mdef\u001b[0m \u001b[0merror\u001b[0m\u001b[1;33m(\u001b[0m\u001b[0mX\u001b[0m\u001b[1;33m,\u001b[0m\u001b[0mY\u001b[0m\u001b[1;33m,\u001b[0m\u001b[0mtheta\u001b[0m\u001b[1;33m)\u001b[0m\u001b[1;33m:\u001b[0m\u001b[1;33m\u001b[0m\u001b[1;33m\u001b[0m\u001b[0m\n\u001b[0;32m      5\u001b[0m     \u001b[0mtotal_error\u001b[0m\u001b[1;33m=\u001b[0m\u001b[1;36m0\u001b[0m\u001b[1;33m\u001b[0m\u001b[1;33m\u001b[0m\u001b[0m\n",
      "\u001b[1;31mValueError\u001b[0m: operands could not be broadcast together with shapes (100,1) (99,1) "
     ]
    },
    {
     "data": {
      "image/png": "[encoded data removed]",
      "text/plain": [
       "<Figure size 432x288 with 1 Axes>"
      ]
     },
     "metadata": {
      "needs_background": "light"
     },
     "output_type": "display_data"
    }
   ],
   "source": [
    "def hypothesis(theta,X):\n",
    "    return theta[0]+theta[1]*X\n",
    "\n",
    "def error(X,Y,theta):\n",
    "    total_error=0\n",
    "    m=X.shape[0]\n",
    "    for i in range(m):\n",
    "        total_error+=(Y[i]-hypothesis(theta,X[i]))**2\n",
    "    return total_error/m\n",
    "\n",
    "def gradient(Y,X,theta):\n",
    "    grad=np.zeros((2,))\n",
    "    m=X.shape[0]\n",
    "    for i in range(m):\n",
    "        grad[0]+=(hypothesis(theta,X[i])-Y[i])\n",
    "        grad[1]+=(hypothesis(theta,X[i])-Y[i])*X[i]\n",
    "    return grad/m\n",
    "\n",
    "def gradientdecent(X,Y,learning_rate,maxitr):\n",
    "    theta=np.zeros((2,))\n",
    "    error_list=[]\n",
    "    for i in range(maxitr):\n",
    "        grad=gradient(Y,X,theta)\n",
    "        e=error(X,Y,theta)\n",
    "        error_list.append(e)\n",
    "        theta[0]=theta[0]-learning_rate*grad[0]\n",
    "        theta[1]=theta[1]-learning_rate*grad[1]\n",
    "    return theta,error_list\n",
    "\n",
    "\n",
    "def readdata(filename):\n",
    "    df=pd.read_csv(filename)\n",
    "    return df.values\n",
    "X=readdata(\"LinearX.csv\")\n",
    "Y=readdata('LinearY.csv')\n",
    "Y.reshape(99,)\n",
    "X.reshape(99,)\n",
    "\n",
    "theta=gradientdecent(X,Y,learning_rate=0.1,maxitr=100)\n",
    "plt.scatter(X,Y)\n",
    "plt.plot(X,hypothesis(theta,X),color='r')    \n",
    "        "
   ]
  },
  {
   "cell_type": "code",
   "execution_count": 116,
   "metadata": {},
   "outputs": [
    {
     "data": {
      "text/plain": [
       "(array([-1.14547406e+75, -9.64173928e+75]),\n",
       " [array([0.01003445]),\n",
       "  array([0.24875156]),\n",
       "  array([9.12536648]),\n",
       "  array([312.03999609]),\n",
       "  array([10796.6257753]),\n",
       "  array([372818.35782523]),\n",
       "  array([12878154.48596524]),\n",
       "  array([4.44820762e+08]),\n",
       "  array([1.53645799e+10]),\n",
       "  array([5.30707979e+11]),\n",
       "  array([1.83311902e+13]),\n",
       "  array([6.33177817e+14]),\n",
       "  array([2.18706012e+16]),\n",
       "  array([7.55432649e+17]),\n",
       "  array([2.60934065e+19]),\n",
       "  array([9.01292609e+20]),\n",
       "  array([3.11315568e+22]),\n",
       "  array([1.07531541e+24]),\n",
       "  array([3.71424801e+25]),\n",
       "  array([1.28293877e+27]),\n",
       "  array([4.43140005e+28]),\n",
       "  array([1.53065032e+30]),\n",
       "  array([5.28702078e+31]),\n",
       "  array([1.82619036e+33]),\n",
       "  array([6.30784592e+34]),\n",
       "  array([2.17879368e+36]),\n",
       "  array([7.52577337e+37]),\n",
       "  array([2.59947812e+39]),\n",
       "  array([8.9788599e+40]),\n",
       "  array([3.10138888e+42]),\n",
       "  array([1.07125103e+44]),\n",
       "  array([3.70020925e+45]),\n",
       "  array([1.27808964e+47]),\n",
       "  array([4.41465067e+48]),\n",
       "  array([1.52486492e+50]),\n",
       "  array([5.26703741e+51]),\n",
       "  array([1.81928791e+53]),\n",
       "  array([6.28400413e+54]),\n",
       "  array([2.17055848e+56]),\n",
       "  array([7.49732817e+57]),\n",
       "  array([2.58965286e+59]),\n",
       "  array([8.94492247e+60]),\n",
       "  array([3.08966654e+62]),\n",
       "  array([1.06720202e+64]),\n",
       "  array([3.68622355e+65]),\n",
       "  array([1.27325884e+67]),\n",
       "  array([4.39796459e+68]),\n",
       "  array([1.51910138e+70]),\n",
       "  array([5.24712956e+71]),\n",
       "  array([1.81241154e+73]),\n",
       "  array([6.26025246e+74]),\n",
       "  array([2.16235441e+76]),\n",
       "  array([7.46899049e+77]),\n",
       "  array([2.57986474e+79]),\n",
       "  array([8.91111331e+80]),\n",
       "  array([3.07798852e+82]),\n",
       "  array([1.06316832e+84]),\n",
       "  array([3.67229072e+85]),\n",
       "  array([1.2684463e+87]),\n",
       "  array([4.38134159e+88]),\n",
       "  array([1.51335963e+90]),\n",
       "  array([5.22729697e+91]),\n",
       "  array([1.80556116e+93]),\n",
       "  array([6.23659055e+94]),\n",
       "  array([2.15418135e+96]),\n",
       "  array([7.44075992e+97]),\n",
       "  array([2.57011361e+99]),\n",
       "  array([8.87743193e+100]),\n",
       "  array([3.06635463e+102]),\n",
       "  array([1.05914985e+104]),\n",
       "  array([3.65841054e+105]),\n",
       "  array([1.26365194e+107]),\n",
       "  array([4.36478141e+108]),\n",
       "  array([1.50763957e+110]),\n",
       "  array([5.20753933e+111]),\n",
       "  array([1.79873667e+113]),\n",
       "  array([6.21301809e+114]),\n",
       "  array([2.14603918e+116]),\n",
       "  array([7.41263605e+117]),\n",
       "  array([2.56039934e+119]),\n",
       "  array([8.84387787e+120]),\n",
       "  array([3.05476472e+122]),\n",
       "  array([1.05514658e+124]),\n",
       "  array([3.64458283e+125]),\n",
       "  array([1.25887571e+127]),\n",
       "  array([4.34828383e+128]),\n",
       "  array([1.50194114e+130]),\n",
       "  array([5.18785637e+131]),\n",
       "  array([1.79193798e+133]),\n",
       "  array([6.18953472e+134]),\n",
       "  array([2.13792779e+136]),\n",
       "  array([7.38461848e+137]),\n",
       "  array([2.55072179e+139]),\n",
       "  array([8.81045063e+140]),\n",
       "  array([3.04321861e+142]),\n",
       "  array([1.05115844e+144]),\n",
       "  array([3.63080739e+145]),\n",
       "  array([1.25411754e+147]),\n",
       "  array([4.33184861e+148]),\n",
       "  array([1.49626425e+150])])"
      ]
     },
     "execution_count": 116,
     "metadata": {},
     "output_type": "execute_result"
    }
   ],
   "source": [
    "theta"
   ]
  }
 ],
 "metadata": {
  "kernelspec": {
   "display_name": "Python 3",
   "language": "python",
   "name": "python3"
  },
  "language_info": {
   "codemirror_mode": {
    "name": "ipython",
    "version": 3
   },
   "file_extension": ".py",
   "mimetype": "text/x-python",
   "name": "python",
   "nbconvert_exporter": "python",
   "pygments_lexer": "ipython3",
   "version": "3.8.1"
  }
 },
 "nbformat": 4,
 "nbformat_minor": 4
}
