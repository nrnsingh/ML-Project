{
 "cells": [
  {
   "cell_type": "code",
   "execution_count": 1,
   "metadata": {},
   "outputs": [],
   "source": [
    "import nltk"
   ]
  },
  {
   "cell_type": "code",
   "execution_count": 2,
   "metadata": {},
   "outputs": [],
   "source": [
    "from nltk.tokenize import sent_tokenize,word_tokenize\n",
    "from nltk.corpus import stopwords\n",
    "from nltk.tokenize import RegexpTokenizer\n",
    "from nltk.stem.snowball import SnowballStemmer,PorterStemmer\n",
    "from nltk.stem.lancaster import LancasterStemmer\n",
    "from sklearn.feature_extraction.text import CountVectorizer"
   ]
  },
  {
   "cell_type": "code",
   "execution_count": 4,
   "metadata": {},
   "outputs": [
    {
     "name": "stdout",
     "output_type": "stream",
     "text": [
      "{'own', 'in', 'has', 'his', 're', \"hasn't\", 'he', 'at', \"you'll\", 'have', 'their', 'now', 'if', 'against', 'nor', 'few', 'through', 'other', \"isn't\", 'only', 'hers', \"doesn't\", 'on', 'him', \"wasn't\", 'as', 'isn', 'those', \"she's\", 'i', \"haven't\", \"aren't\", 'by', 'again', 'were', 'from', 'than', 'who', 'until', 'the', \"didn't\", 'being', 'down', 'off', 'didn', 'y', 'and', 'very', 'doing', 'did', 'ours', 'won', \"hadn't\", 'such', 'it', 'was', 'do', 'during', 'am', 'ourselves', \"weren't\", 'had', 'most', 'shouldn', 'no', 'each', 'don', 'under', \"you're\", 'yours', 'to', 'wouldn', 'ain', \"shan't\", 'having', 'your', 'should', 'are', 'will', 'her', 'about', 'into', 'them', 'you', 'above', \"it's\", 't', 'll', 'we', 'its', 'this', 'once', 'there', 'here', 'or', \"that'll\", 'herself', 'is', 'why', 'wasn', 'been', 've', 'both', 'me', 'our', 'she', 'aren', \"you'd\", 'too', 'needn', 'same', 'o', \"shouldn't\", \"you've\", 'more', 'of', 'ma', 'but', 'between', 'these', 'while', \"mustn't\", 'doesn', 'when', 'further', 'just', 's', 'for', 'out', \"couldn't\", 'hasn', 'mightn', 'my', 'up', 'does', 'd', 'couldn', 'weren', 'with', 'any', 'then', 'hadn', 'yourself', 'haven', 'over', 'what', \"should've\", 'whom', 'that', 'so', \"needn't\", 'be', 'before', \"won't\", 'not', 'shan', 'can', 'some', 'a', 'mustn', 'himself', 'itself', 'an', 'which', 'themselves', 'below', 'where', 'because', 'all', \"wouldn't\", 'yourselves', \"don't\", 'theirs', 'how', 'after', 'myself', 'm', \"mightn't\", 'they'}\n"
     ]
    }
   ],
   "source": [
    "sw=set(stopwords.words('english'))\n",
    "print(sw)"
   ]
  },
  {
   "cell_type": "code",
   "execution_count": 5,
   "metadata": {},
   "outputs": [
    {
     "data": {
      "text/plain": [
       "['bothered', 'much']"
      ]
     },
     "execution_count": 5,
     "metadata": {},
     "output_type": "execute_result"
    }
   ],
   "source": [
    "def remove_stopwords(text,stopwords):\n",
    "    useful_words=[w for w in text if w not in stopwords]\n",
    "    return useful_words\n",
    "\n",
    "text=\"i am not bothered about her very much\".split()\n",
    "useful_words=remove_stopwords(text,sw)\n",
    "useful_words"
   ]
  },
  {
   "cell_type": "markdown",
   "metadata": {},
   "source": [
    "# TOKENIZATION"
   ]
  },
  {
   "cell_type": "code",
   "execution_count": 6,
   "metadata": {},
   "outputs": [
    {
     "data": {
      "text/plain": [
       "['send',\n",
       " 'me',\n",
       " 'all',\n",
       " 'the',\n",
       " 'document',\n",
       " 'related',\n",
       " 'to',\n",
       " 'chapter',\n",
       " 'at',\n",
       " 'jnvnrnsingh@cb',\n",
       " 'com']"
      ]
     },
     "execution_count": 6,
     "metadata": {},
     "output_type": "execute_result"
    }
   ],
   "source": [
    "sentence=\"send me all the document related to chapter 1,2,3 at jnvnrnsingh@cb.com\"\n",
    "tokenizer=RegexpTokenizer('[a-zA-Z@]+')\n",
    "useful_text=tokenizer.tokenize(sentence)\n",
    "useful_text"
   ]
  },
  {
   "cell_type": "markdown",
   "metadata": {},
   "source": [
    "# STEMMING"
   ]
  },
  {
   "cell_type": "code",
   "execution_count": 7,
   "metadata": {},
   "outputs": [
    {
     "data": {
      "text/plain": [
       "'jump'"
      ]
     },
     "execution_count": 7,
     "metadata": {},
     "output_type": "execute_result"
    }
   ],
   "source": [
    "text=\"foxes love to make jumps.The quick brown was seen jumping over the lovely dog from a 6ft feet high wall\"\n",
    "ps=PorterStemmer()\n",
    "\n",
    "ps.stem('jumping')"
   ]
  },
  {
   "cell_type": "code",
   "execution_count": 38,
   "metadata": {},
   "outputs": [
    {
     "data": {
      "text/plain": [
       "'jump'"
      ]
     },
     "execution_count": 38,
     "metadata": {},
     "output_type": "execute_result"
    }
   ],
   "source": [
    "ps.stem('jumped')"
   ]
  },
  {
   "cell_type": "code",
   "execution_count": 45,
   "metadata": {},
   "outputs": [
    {
     "data": {
      "text/plain": [
       "'jump'"
      ]
     },
     "execution_count": 45,
     "metadata": {},
     "output_type": "execute_result"
    }
   ],
   "source": [
    "ps.stem('jumps')"
   ]
  },
  {
   "cell_type": "code",
   "execution_count": 48,
   "metadata": {},
   "outputs": [
    {
     "data": {
      "text/plain": [
       "'love'"
      ]
     },
     "execution_count": 48,
     "metadata": {},
     "output_type": "execute_result"
    }
   ],
   "source": [
    "ps.stem('loving')"
   ]
  },
  {
   "cell_type": "markdown",
   "metadata": {},
   "source": [
    "# BUILDING A VOCAB AND VECTORIZATION"
   ]
  },
  {
   "cell_type": "code",
   "execution_count": 8,
   "metadata": {},
   "outputs": [],
   "source": [
    "corpus=[\n",
    "    \"indian cricket team will win world cup. world cup will be held at srilanka\"]"
   ]
  },
  {
   "cell_type": "code",
   "execution_count": 9,
   "metadata": {},
   "outputs": [],
   "source": [
    "cv=CountVectorizer()"
   ]
  },
  {
   "cell_type": "code",
   "execution_count": 10,
   "metadata": {},
   "outputs": [
    {
     "data": {
      "text/plain": [
       "array([[1, 1, 1, 2, 1, 1, 1, 1, 2, 1, 2]], dtype=int64)"
      ]
     },
     "execution_count": 10,
     "metadata": {},
     "output_type": "execute_result"
    }
   ],
   "source": [
    "vectorized_corpus=cv.fit_transform(corpus)\n",
    "vectorized_corpus=vectorized_corpus.toarray()\n",
    "vectorized_corpus"
   ]
  },
  {
   "cell_type": "code",
   "execution_count": 11,
   "metadata": {},
   "outputs": [
    {
     "data": {
      "text/plain": [
       "{'indian': 5,\n",
       " 'cricket': 2,\n",
       " 'team': 7,\n",
       " 'will': 8,\n",
       " 'win': 9,\n",
       " 'world': 10,\n",
       " 'cup': 3,\n",
       " 'be': 1,\n",
       " 'held': 4,\n",
       " 'at': 0,\n",
       " 'srilanka': 6}"
      ]
     },
     "execution_count": 11,
     "metadata": {},
     "output_type": "execute_result"
    }
   ],
   "source": [
    "cv.vocabulary_"
   ]
  },
  {
   "cell_type": "markdown",
   "metadata": {},
   "source": [
    "# VECTORIZATION WITH STOPWORD REMOVAL"
   ]
  },
  {
   "cell_type": "code",
   "execution_count": 12,
   "metadata": {},
   "outputs": [],
   "source": [
    "def myTokenizer(document):\n",
    "    words=tokenizer.tokenize(document.lower())\n",
    "    words=remove_stopwords(words,sw)\n",
    "    return words\n",
    "\n"
   ]
  },
  {
   "cell_type": "code",
   "execution_count": 13,
   "metadata": {},
   "outputs": [
    {
     "data": {
      "text/plain": [
       "['function']"
      ]
     },
     "execution_count": 13,
     "metadata": {},
     "output_type": "execute_result"
    }
   ],
   "source": [
    "myTokenizer('this is some function')"
   ]
  },
  {
   "cell_type": "code",
   "execution_count": 14,
   "metadata": {},
   "outputs": [],
   "source": [
    "cv=CountVectorizer(tokenizer=myTokenizer)"
   ]
  },
  {
   "cell_type": "code",
   "execution_count": 15,
   "metadata": {},
   "outputs": [
    {
     "name": "stdout",
     "output_type": "stream",
     "text": [
      "[[1 2 1 1 1 1 1 2]]\n"
     ]
    }
   ],
   "source": [
    "vectorized_corpus=cv.fit_transform(corpus).toarray()\n",
    "print(vectorized_corpus)"
   ]
  },
  {
   "cell_type": "markdown",
   "metadata": {},
   "source": [
    "# MORE WAYS TO CREATE FEATURE\n",
    "# unigram---every word as a feature\n",
    "# bigram\n",
    "# trigram\n",
    "# n-gram"
   ]
  },
  {
   "cell_type": "code",
   "execution_count": 16,
   "metadata": {},
   "outputs": [],
   "source": [
    "sent_1=[\"this is a good movie\"]\n",
    "sent_2=[\"this is good movie but actor is not present\"]\n",
    "sent_3=[\"this is not good movie\"]"
   ]
  },
  {
   "cell_type": "code",
   "execution_count": 21,
   "metadata": {},
   "outputs": [],
   "source": [
    "cv=CountVectorizer(ngram_range=(2,2))"
   ]
  },
  {
   "cell_type": "code",
   "execution_count": 22,
   "metadata": {},
   "outputs": [
    {
     "data": {
      "text/plain": [
       "array([[0, 0, 1, 1, 0, 0, 0, 1],\n",
       "       [1, 1, 1, 1, 1, 1, 1, 1]], dtype=int64)"
      ]
     },
     "execution_count": 22,
     "metadata": {},
     "output_type": "execute_result"
    }
   ],
   "source": [
    "docs=[sent_1[0],sent_2[0]]\n",
    "cv.fit_transform(docs).toarray()"
   ]
  },
  {
   "cell_type": "code",
   "execution_count": 23,
   "metadata": {},
   "outputs": [
    {
     "data": {
      "text/plain": [
       "{'this is': 7,\n",
       " 'is good': 3,\n",
       " 'good movie': 2,\n",
       " 'movie but': 5,\n",
       " 'but actor': 1,\n",
       " 'actor is': 0,\n",
       " 'is not': 4,\n",
       " 'not present': 6}"
      ]
     },
     "execution_count": 23,
     "metadata": {},
     "output_type": "execute_result"
    }
   ],
   "source": [
    "cv.vocabulary_"
   ]
  },
  {
   "cell_type": "code",
   "execution_count": null,
   "metadata": {},
   "outputs": [],
   "source": []
  }
 ],
 "metadata": {
  "kernelspec": {
   "display_name": "Python 3",
   "language": "python",
   "name": "python3"
  },
  "language_info": {
   "codemirror_mode": {
    "name": "ipython",
    "version": 3
   },
   "file_extension": ".py",
   "mimetype": "text/x-python",
   "name": "python",
   "nbconvert_exporter": "python",
   "pygments_lexer": "ipython3",
   "version": "3.8.1"
  }
 },
 "nbformat": 4,
 "nbformat_minor": 4
}
