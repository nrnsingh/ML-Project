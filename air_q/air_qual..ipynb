{
 "cells": [
  {
   "cell_type": "code",
   "execution_count": 4,
   "metadata": {},
   "outputs": [],
   "source": [
    "import numpy as np\n",
    "import pandas as pd\n",
    "import matplotlib.pyplot as plt"
   ]
  },
  {
   "cell_type": "code",
   "execution_count": 74,
   "metadata": {},
   "outputs": [],
   "source": [
    "df=pd.read_csv(\"Train.csv\")"
   ]
  },
  {
   "cell_type": "code",
   "execution_count": 75,
   "metadata": {},
   "outputs": [
    {
     "data": {
      "text/plain": [
       "(1600, 6)"
      ]
     },
     "execution_count": 75,
     "metadata": {},
     "output_type": "execute_result"
    }
   ],
   "source": [
    "df.shape\\\\"
   ]
  },
  {
   "cell_type": "code",
   "execution_count": 76,
   "metadata": {},
   "outputs": [
    {
     "data": {
      "text/plain": [
       "((1600, 5), (1600,))"
      ]
     },
     "execution_count": 76,
     "metadata": {},
     "output_type": "execute_result"
    }
   ],
   "source": [
    "x=df[['feature_1','feature_2','feature_3','feature_4','feature_5']]\n",
    "y=df['target']\n",
    "x.shape,y.shape"
   ]
  },
  {
   "cell_type": "code",
   "execution_count": 79,
   "metadata": {},
   "outputs": [
    {
     "name": "stdout",
     "output_type": "stream",
     "text": [
      "(5,) (5,)\n"
     ]
    },
    {
     "data": {
      "text/html": [
       "<div>\n",
       "<style scoped>\n",
       "    .dataframe tbody tr th:only-of-type {\n",
       "        vertical-align: middle;\n",
       "    }\n",
       "\n",
       "    .dataframe tbody tr th {\n",
       "        vertical-align: top;\n",
       "    }\n",
       "\n",
       "    .dataframe thead th {\n",
       "        text-align: right;\n",
       "    }\n",
       "</style>\n",
       "<table border=\"1\" class=\"dataframe\">\n",
       "  <thead>\n",
       "    <tr style=\"text-align: right;\">\n",
       "      <th></th>\n",
       "      <th>feature_1</th>\n",
       "      <th>feature_2</th>\n",
       "      <th>feature_3</th>\n",
       "      <th>feature_4</th>\n",
       "      <th>feature_5</th>\n",
       "    </tr>\n",
       "  </thead>\n",
       "  <tbody>\n",
       "    <tr>\n",
       "      <th>0</th>\n",
       "      <td>0.290165</td>\n",
       "      <td>-0.898712</td>\n",
       "      <td>-0.372381</td>\n",
       "      <td>0.441771</td>\n",
       "      <td>0.525024</td>\n",
       "    </tr>\n",
       "    <tr>\n",
       "      <th>1</th>\n",
       "      <td>-0.842705</td>\n",
       "      <td>-0.158229</td>\n",
       "      <td>-0.723656</td>\n",
       "      <td>-0.994642</td>\n",
       "      <td>0.598960</td>\n",
       "    </tr>\n",
       "    <tr>\n",
       "      <th>2</th>\n",
       "      <td>0.233004</td>\n",
       "      <td>0.157070</td>\n",
       "      <td>-0.102094</td>\n",
       "      <td>0.729947</td>\n",
       "      <td>-0.203782</td>\n",
       "    </tr>\n",
       "    <tr>\n",
       "      <th>3</th>\n",
       "      <td>0.171708</td>\n",
       "      <td>0.167210</td>\n",
       "      <td>-0.530576</td>\n",
       "      <td>-0.078377</td>\n",
       "      <td>-1.333037</td>\n",
       "    </tr>\n",
       "    <tr>\n",
       "      <th>4</th>\n",
       "      <td>-1.702188</td>\n",
       "      <td>0.558336</td>\n",
       "      <td>-2.723087</td>\n",
       "      <td>-0.633625</td>\n",
       "      <td>1.259339</td>\n",
       "    </tr>\n",
       "  </tbody>\n",
       "</table>\n",
       "</div>"
      ],
      "text/plain": [
       "   feature_1  feature_2  feature_3  feature_4  feature_5\n",
       "0   0.290165  -0.898712  -0.372381   0.441771   0.525024\n",
       "1  -0.842705  -0.158229  -0.723656  -0.994642   0.598960\n",
       "2   0.233004   0.157070  -0.102094   0.729947  -0.203782\n",
       "3   0.171708   0.167210  -0.530576  -0.078377  -1.333037\n",
       "4  -1.702188   0.558336  -2.723087  -0.633625   1.259339"
      ]
     },
     "execution_count": 79,
     "metadata": {},
     "output_type": "execute_result"
    }
   ],
   "source": [
    "u=np.mean(x,axis=0)\n",
    "std=np.std(x,axis=0)\n",
    "x=(x-u)/std\n",
    "print(u.shape,std.shape)\n",
    "x.head()"
   ]
  },
  {
   "cell_type": "code",
   "execution_count": null,
   "metadata": {},
   "outputs": [],
   "source": []
  },
  {
   "cell_type": "code",
   "execution_count": 81,
   "metadata": {},
   "outputs": [
    {
     "data": {
      "text/plain": [
       "((1600, 6), (1600,))"
      ]
     },
     "execution_count": 81,
     "metadata": {},
     "output_type": "execute_result"
    }
   ],
   "source": [
    "ones=np.ones((x.shape[0],1))\n",
    "x=np.hstack((ones,x))\n",
    "x.shape,y.shape"
   ]
  },
  {
   "cell_type": "code",
   "execution_count": 82,
   "metadata": {},
   "outputs": [],
   "source": [
    "def hypothesis(x,theta):\n",
    "    return np.dot(x,theta)\n",
    "\n",
    "def error(x,y,theta):\n",
    "    e=0.0\n",
    "    m=x.shape[0]\n",
    "    y_=hypothesis(x,theta)\n",
    "    e=np.sum((y-y_)**2)\n",
    "    return e/m\n",
    "\n",
    "def gradient(x,y,theta):\n",
    "    y_=hypothesis(x,theta)\n",
    "    grad=np.dot(x.T,(y_-y))\n",
    "    m=x.shape[0]\n",
    "    return grad/m\n",
    "\n",
    "def gradientdecent(x,y,learning_rate=0.1,step=300):\n",
    "    n=x.shape[1]\n",
    "    theta=np.zeros((n,))\n",
    "    error_list=[]\n",
    "    for i in range(step):\n",
    "        e=error(x,y,theta)\n",
    "        error_list.append(e)\n",
    "        grad=gradient(x,y,theta)\n",
    "        theta=theta-learning_rate*grad\n",
    "    return theta,error_list   \n",
    "\n",
    "def r2_score(y,y_):\n",
    "    num=np.sum((y-y_)**2)\n",
    "    denom=np.sum((y-y.mean())**2)\n",
    "    score=(1-num/denom)\n",
    "    return score*100"
   ]
  },
  {
   "cell_type": "code",
   "execution_count": 83,
   "metadata": {},
   "outputs": [
    {
     "data": {
      "text/plain": [
       "[<matplotlib.lines.Line2D at 0x12f8df88>]"
      ]
     },
     "execution_count": 83,
     "metadata": {},
     "output_type": "execute_result"
    },
    {
     "data": {
      "image/png": "[encoded data removed]",
      "text/plain": [
       "<Figure size 576x396 with 1 Axes>"
      ]
     },
     "metadata": {},
     "output_type": "display_data"
    }
   ],
   "source": [
    "theta,error_list=gradientdecent(x,y)\n",
    "theta\n",
    "plt.plot(error_list)"
   ]
  },
  {
   "cell_type": "code",
   "execution_count": 89,
   "metadata": {},
   "outputs": [
    {
     "data": {
      "text/plain": [
       "96.60939669975616"
      ]
     },
     "execution_count": 89,
     "metadata": {},
     "output_type": "execute_result"
    }
   ],
   "source": [
    "y_=hypothesis(x,theta)\n",
    "r2_score(y,y_)"
   ]
  },
  {
   "cell_type": "code",
   "execution_count": 88,
   "metadata": {},
   "outputs": [
    {
     "data": {
      "text/plain": [
       "(400,)"
      ]
     },
     "execution_count": 88,
     "metadata": {},
     "output_type": "execute_result"
    }
   ],
   "source": [
    "x_test=pd.read_csv('Test.csv').values\n",
    "\n",
    "ones  = np.ones((x_test.shape[0],1))\n",
    "x_test=np.hstack((ones,x_test))\n",
    "\n",
    "\n",
    "y_test=hypothesis(x_test,theta)\n",
    "y_test.shape"
   ]
  },
  {
   "cell_type": "code",
   "execution_count": 87,
   "metadata": {},
   "outputs": [],
   "source": [
    "df=pd.DataFrame(data=y_test,columns=[\"target\"])\n",
    "\n",
    "df.insert(0, \"Id\",'1')\n",
    "df['Id'] = np.arange(len(df))\n",
    "df\n",
    "\n",
    "df.to_csv('air_prediction.csv',index=False)"
   ]
  }
 ],
 "metadata": {
  "kernelspec": {
   "display_name": "Python 3",
   "language": "python",
   "name": "python3"
  },
  "language_info": {
   "codemirror_mode": {
    "name": "ipython",
    "version": 3
   },
   "file_extension": ".py",
   "mimetype": "text/x-python",
   "name": "python",
   "nbconvert_exporter": "python",
   "pygments_lexer": "ipython3",
   "version": "3.8.1"
  }
 },
 "nbformat": 4,
 "nbformat_minor": 4
}
