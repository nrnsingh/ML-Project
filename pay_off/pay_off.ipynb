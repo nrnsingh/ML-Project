{
 "cells": [
  {
   "cell_type": "code",
   "execution_count": 53,
   "metadata": {},
   "outputs": [],
   "source": [
    "import numpy as np\n",
    "import matplotlib.pyplot as plt\n",
    "import pandas as pd"
   ]
  },
  {
   "cell_type": "code",
   "execution_count": 54,
   "metadata": {},
   "outputs": [],
   "source": [
    "y=pd.read_csv('Linear_Y_Train.csv')\n",
    "x=pd.read_csv('Linear_X_Train.csv')\n",
    "x=x.values\n",
    "y=y.values\n",
    "u=x.mean()\n",
    "std=x.std()\n",
    "x=(x-u)/std"
   ]
  },
  {
   "cell_type": "code",
   "execution_count": 75,
   "metadata": {},
   "outputs": [
    {
     "data": {
      "text/plain": [
       "[<matplotlib.lines.Line2D at 0xe60c400>]"
      ]
     },
     "execution_count": 75,
     "metadata": {},
     "output_type": "execute_result"
    },
    {
     "data": {
      "image/png": "[encoded data removed]",
      "text/plain": [
       "<Figure size 432x288 with 1 Axes>"
      ]
     },
     "metadata": {
      "needs_background": "light"
     },
     "output_type": "display_data"
    }
   ],
   "source": [
    "def hypothesis(x,theta):\n",
    "    y_=theta[0]+theta[1]*x\n",
    "    return y_\n",
    "def gradient(x,y,theta):\n",
    "    m=x.shape[0]\n",
    "    grad=np.zeros((2,))\n",
    "    for i in range(m):\n",
    "        y_=hypothesis(x[i],theta)\n",
    "        grad[0]+=(y_-y[i])\n",
    "        grad[1]+=(y_-y[i])*x[i]\n",
    "    return grad/m\n",
    "def error(x,y,theta):\n",
    "    total_error=0.0\n",
    "    m=x.shape[0]\n",
    "    for i in range(m):\n",
    "        y_=hypothesis(x[i],theta)\n",
    "        total_error+=(y_-y[i])**2\n",
    "    return total_error/m\n",
    "def gradientdecent(x,y,learning_rate=0.1,step=100):\n",
    "    theta=np.zeros((2,))\n",
    "    error_list=[]\n",
    "    for i in range(step):\n",
    "        grad=gradient(x,y,theta)\n",
    "        e=error(x,y,theta)\n",
    "        error_list.append(e)\n",
    "        theta[0]=theta[0]-learning_rate*grad[0]\n",
    "        theta[1]=theta[1]-learning_rate*grad[1]\n",
    "    return theta,error_list\n",
    "\n",
    "theta,error_list=gradientdecent(x,y)\n",
    "y_=hypothesis(x,theta)\n",
    "plt.scatter(x,y)\n",
    "plt.plot(x,y_,color=\"red\")"
   ]
  },
  {
   "cell_type": "code",
   "execution_count": 77,
   "metadata": {},
   "outputs": [],
   "source": [
    "x_test=pd.read_csv('Linear_X_Test.csv').values\n",
    "y_test=hypothesis(x_test,theta)\n",
    "df=pd.DataFrame(data=y_test,columns=[\"y\"])"
   ]
  },
  {
   "cell_type": "code",
   "execution_count": 80,
   "metadata": {},
   "outputs": [],
   "source": [
    "df.to_csv(\"y_prediction.csv\",index=False)"
   ]
  }
 ],
 "metadata": {
  "kernelspec": {
   "display_name": "Python 3",
   "language": "python",
   "name": "python3"
  },
  "language_info": {
   "codemirror_mode": {
    "name": "ipython",
    "version": 3
   },
   "file_extension": ".py",
   "mimetype": "text/x-python",
   "name": "python",
   "nbconvert_exporter": "python",
   "pygments_lexer": "ipython3",
   "version": "3.8.1"
  }
 },
 "nbformat": 4,
 "nbformat_minor": 4
}
